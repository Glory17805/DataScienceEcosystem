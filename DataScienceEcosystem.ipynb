{
 "cells": [
  {
   "cell_type": "markdown",
   "id": "b91a3251-18f0-4144-9b1d-1feb1a13d929",
   "metadata": {},
   "source": [
    " Indicate Author's Name"
   ]
  },
  {
   "cell_type": "markdown",
   "id": "463a4356-82cd-4256-84d8-062f788b5b8c",
   "metadata": {},
   "source": [
    "## Author\r",
    "Glory\r\n"
   ]
  },
  {
   "cell_type": "code",
   "execution_count": null,
   "id": "2a3e1c81-ddc9-4e3f-9f11-636cc3dccb36",
   "metadata": {},
   "outputs": [],
   "source": []
  }
 ],
 "metadata": {
  "kernelspec": {
   "display_name": "Python 3 (ipykernel)",
   "language": "python",
   "name": "python3"
  },
  "language_info": {
   "codemirror_mode": {
    "name": "ipython",
    "version": 3
   },
   "file_extension": ".py",
   "mimetype": "text/x-python",
   "name": "python",
   "nbconvert_exporter": "python",
   "pygments_lexer": "ipython3",
   "version": "3.12.4"
  }
 },
 "nbformat": 4,
 "nbformat_minor": 5
}
